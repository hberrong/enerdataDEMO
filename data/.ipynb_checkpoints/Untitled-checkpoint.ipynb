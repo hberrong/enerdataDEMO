{
 "cells": [
  {
   "cell_type": "code",
   "execution_count": 1,
   "id": "1fe2dcd6",
   "metadata": {},
   "outputs": [],
   "source": [
    "import geopandas"
   ]
  },
  {
   "cell_type": "code",
   "execution_count": 2,
   "id": "80710cac",
   "metadata": {},
   "outputs": [],
   "source": [
    "s = geopandas.read_file('solar_PVOUT.json')"
   ]
  },
  {
   "cell_type": "code",
   "execution_count": 4,
   "id": "a8362e50",
   "metadata": {},
   "outputs": [
    {
     "data": {
      "text/html": [
       "<div>\n",
       "<style scoped>\n",
       "    .dataframe tbody tr th:only-of-type {\n",
       "        vertical-align: middle;\n",
       "    }\n",
       "\n",
       "    .dataframe tbody tr th {\n",
       "        vertical-align: top;\n",
       "    }\n",
       "\n",
       "    .dataframe thead th {\n",
       "        text-align: right;\n",
       "    }\n",
       "</style>\n",
       "<table border=\"1\" class=\"dataframe\">\n",
       "  <thead>\n",
       "    <tr style=\"text-align: right;\">\n",
       "      <th></th>\n",
       "      <th>PVOUT_kWh_kWp</th>\n",
       "      <th>state</th>\n",
       "      <th>geometry</th>\n",
       "    </tr>\n",
       "  </thead>\n",
       "  <tbody>\n",
       "    <tr>\n",
       "      <th>0</th>\n",
       "      <td>1090</td>\n",
       "      <td>Alaska</td>\n",
       "      <td>POLYGON ((-166.96667 59.98333, -166.96667 59.9...</td>\n",
       "    </tr>\n",
       "    <tr>\n",
       "      <th>1</th>\n",
       "      <td>1100</td>\n",
       "      <td>Alaska</td>\n",
       "      <td>POLYGON ((-166.77500 59.98333, -166.77500 59.9...</td>\n",
       "    </tr>\n",
       "    <tr>\n",
       "      <th>2</th>\n",
       "      <td>1080</td>\n",
       "      <td>Alaska</td>\n",
       "      <td>POLYGON ((-166.61667 59.98333, -166.61667 59.9...</td>\n",
       "    </tr>\n",
       "    <tr>\n",
       "      <th>3</th>\n",
       "      <td>1080</td>\n",
       "      <td>Alaska</td>\n",
       "      <td>POLYGON ((-166.30000 59.98333, -166.30000 59.9...</td>\n",
       "    </tr>\n",
       "    <tr>\n",
       "      <th>4</th>\n",
       "      <td>1070</td>\n",
       "      <td>Alaska</td>\n",
       "      <td>POLYGON ((-166.26667 59.98333, -166.26667 59.9...</td>\n",
       "    </tr>\n",
       "  </tbody>\n",
       "</table>\n",
       "</div>"
      ],
      "text/plain": [
       "   PVOUT_kWh_kWp   state                                           geometry\n",
       "0           1090  Alaska  POLYGON ((-166.96667 59.98333, -166.96667 59.9...\n",
       "1           1100  Alaska  POLYGON ((-166.77500 59.98333, -166.77500 59.9...\n",
       "2           1080  Alaska  POLYGON ((-166.61667 59.98333, -166.61667 59.9...\n",
       "3           1080  Alaska  POLYGON ((-166.30000 59.98333, -166.30000 59.9...\n",
       "4           1070  Alaska  POLYGON ((-166.26667 59.98333, -166.26667 59.9..."
      ]
     },
     "execution_count": 4,
     "metadata": {},
     "output_type": "execute_result"
    }
   ],
   "source": [
    "s.head()"
   ]
  },
  {
   "cell_type": "code",
   "execution_count": 5,
   "id": "2bb30b50",
   "metadata": {},
   "outputs": [],
   "source": [
    "new = s[s['state']=='Ohio']"
   ]
  },
  {
   "cell_type": "code",
   "execution_count": 6,
   "id": "973bd2c2",
   "metadata": {},
   "outputs": [
    {
     "data": {
      "text/html": [
       "<div>\n",
       "<style scoped>\n",
       "    .dataframe tbody tr th:only-of-type {\n",
       "        vertical-align: middle;\n",
       "    }\n",
       "\n",
       "    .dataframe tbody tr th {\n",
       "        vertical-align: top;\n",
       "    }\n",
       "\n",
       "    .dataframe thead th {\n",
       "        text-align: right;\n",
       "    }\n",
       "</style>\n",
       "<table border=\"1\" class=\"dataframe\">\n",
       "  <thead>\n",
       "    <tr style=\"text-align: right;\">\n",
       "      <th></th>\n",
       "      <th>PVOUT_kWh_kWp</th>\n",
       "      <th>state</th>\n",
       "      <th>geometry</th>\n",
       "    </tr>\n",
       "  </thead>\n",
       "  <tbody>\n",
       "    <tr>\n",
       "      <th>1413091</th>\n",
       "      <td>1300</td>\n",
       "      <td>Ohio</td>\n",
       "      <td>POLYGON ((-80.58333 41.95833, -80.58333 41.950...</td>\n",
       "    </tr>\n",
       "    <tr>\n",
       "      <th>1413092</th>\n",
       "      <td>1290</td>\n",
       "      <td>Ohio</td>\n",
       "      <td>POLYGON ((-80.78333 41.91667, -80.78333 41.908...</td>\n",
       "    </tr>\n",
       "    <tr>\n",
       "      <th>1413093</th>\n",
       "      <td>1300</td>\n",
       "      <td>Ohio</td>\n",
       "      <td>POLYGON ((-80.90000 41.86667, -80.90000 41.858...</td>\n",
       "    </tr>\n",
       "    <tr>\n",
       "      <th>1413094</th>\n",
       "      <td>1300</td>\n",
       "      <td>Ohio</td>\n",
       "      <td>POLYGON ((-80.75833 41.85833, -80.75833 41.850...</td>\n",
       "    </tr>\n",
       "    <tr>\n",
       "      <th>1413095</th>\n",
       "      <td>1310</td>\n",
       "      <td>Ohio</td>\n",
       "      <td>POLYGON ((-81.08333 41.82500, -81.08333 41.816...</td>\n",
       "    </tr>\n",
       "  </tbody>\n",
       "</table>\n",
       "</div>"
      ],
      "text/plain": [
       "         PVOUT_kWh_kWp state  \\\n",
       "1413091           1300  Ohio   \n",
       "1413092           1290  Ohio   \n",
       "1413093           1300  Ohio   \n",
       "1413094           1300  Ohio   \n",
       "1413095           1310  Ohio   \n",
       "\n",
       "                                                  geometry  \n",
       "1413091  POLYGON ((-80.58333 41.95833, -80.58333 41.950...  \n",
       "1413092  POLYGON ((-80.78333 41.91667, -80.78333 41.908...  \n",
       "1413093  POLYGON ((-80.90000 41.86667, -80.90000 41.858...  \n",
       "1413094  POLYGON ((-80.75833 41.85833, -80.75833 41.850...  \n",
       "1413095  POLYGON ((-81.08333 41.82500, -81.08333 41.816...  "
      ]
     },
     "execution_count": 6,
     "metadata": {},
     "output_type": "execute_result"
    }
   ],
   "source": [
    "new.head()"
   ]
  },
  {
   "cell_type": "code",
   "execution_count": 16,
   "id": "931f4765",
   "metadata": {},
   "outputs": [],
   "source": [
    "ohio_solar = new.to_file(\"ohio_solar.json\", driver=\"GeoJSON\")"
   ]
  },
  {
   "cell_type": "code",
   "execution_count": 15,
   "id": "f44a0361",
   "metadata": {
    "scrolled": true
   },
   "outputs": [
    {
     "data": {
      "text/html": [
       "<div>\n",
       "<style scoped>\n",
       "    .dataframe tbody tr th:only-of-type {\n",
       "        vertical-align: middle;\n",
       "    }\n",
       "\n",
       "    .dataframe tbody tr th {\n",
       "        vertical-align: top;\n",
       "    }\n",
       "\n",
       "    .dataframe thead th {\n",
       "        text-align: right;\n",
       "    }\n",
       "</style>\n",
       "<table border=\"1\" class=\"dataframe\">\n",
       "  <thead>\n",
       "    <tr style=\"text-align: right;\">\n",
       "      <th></th>\n",
       "      <th>capacity_mw</th>\n",
       "      <th>state</th>\n",
       "      <th>geometry</th>\n",
       "    </tr>\n",
       "  </thead>\n",
       "  <tbody>\n",
       "    <tr>\n",
       "      <th>1413091</th>\n",
       "      <td>1300</td>\n",
       "      <td>Ohio</td>\n",
       "      <td>POLYGON ((-80.58333 41.95833, -80.58333 41.950...</td>\n",
       "    </tr>\n",
       "    <tr>\n",
       "      <th>1413092</th>\n",
       "      <td>1290</td>\n",
       "      <td>Ohio</td>\n",
       "      <td>POLYGON ((-80.78333 41.91667, -80.78333 41.908...</td>\n",
       "    </tr>\n",
       "    <tr>\n",
       "      <th>1413093</th>\n",
       "      <td>1300</td>\n",
       "      <td>Ohio</td>\n",
       "      <td>POLYGON ((-80.90000 41.86667, -80.90000 41.858...</td>\n",
       "    </tr>\n",
       "    <tr>\n",
       "      <th>1413094</th>\n",
       "      <td>1300</td>\n",
       "      <td>Ohio</td>\n",
       "      <td>POLYGON ((-80.75833 41.85833, -80.75833 41.850...</td>\n",
       "    </tr>\n",
       "    <tr>\n",
       "      <th>1413095</th>\n",
       "      <td>1310</td>\n",
       "      <td>Ohio</td>\n",
       "      <td>POLYGON ((-81.08333 41.82500, -81.08333 41.816...</td>\n",
       "    </tr>\n",
       "  </tbody>\n",
       "</table>\n",
       "</div>"
      ],
      "text/plain": [
       "         capacity_mw state                                           geometry\n",
       "1413091         1300  Ohio  POLYGON ((-80.58333 41.95833, -80.58333 41.950...\n",
       "1413092         1290  Ohio  POLYGON ((-80.78333 41.91667, -80.78333 41.908...\n",
       "1413093         1300  Ohio  POLYGON ((-80.90000 41.86667, -80.90000 41.858...\n",
       "1413094         1300  Ohio  POLYGON ((-80.75833 41.85833, -80.75833 41.850...\n",
       "1413095         1310  Ohio  POLYGON ((-81.08333 41.82500, -81.08333 41.816..."
      ]
     },
     "execution_count": 15,
     "metadata": {},
     "output_type": "execute_result"
    }
   ],
   "source": [
    "new = new.rename(columns={\"PVOUT_kWh_kWp\": \"capacity_mw\"})\n",
    "new.head()"
   ]
  },
  {
   "cell_type": "code",
   "execution_count": 27,
   "id": "8705336e",
   "metadata": {},
   "outputs": [
    {
     "data": {
      "text/html": [
       "<div>\n",
       "<style scoped>\n",
       "    .dataframe tbody tr th:only-of-type {\n",
       "        vertical-align: middle;\n",
       "    }\n",
       "\n",
       "    .dataframe tbody tr th {\n",
       "        vertical-align: top;\n",
       "    }\n",
       "\n",
       "    .dataframe thead th {\n",
       "        text-align: right;\n",
       "    }\n",
       "</style>\n",
       "<table border=\"1\" class=\"dataframe\">\n",
       "  <thead>\n",
       "    <tr style=\"text-align: right;\">\n",
       "      <th></th>\n",
       "      <th>capacity_mw</th>\n",
       "      <th>state</th>\n",
       "      <th>geometry</th>\n",
       "    </tr>\n",
       "  </thead>\n",
       "  <tbody>\n",
       "    <tr>\n",
       "      <th>0</th>\n",
       "      <td>1090</td>\n",
       "      <td>Alaska</td>\n",
       "      <td>POLYGON ((-166.96667 59.98333, -166.96667 59.9...</td>\n",
       "    </tr>\n",
       "    <tr>\n",
       "      <th>1</th>\n",
       "      <td>1100</td>\n",
       "      <td>Alaska</td>\n",
       "      <td>POLYGON ((-166.77500 59.98333, -166.77500 59.9...</td>\n",
       "    </tr>\n",
       "    <tr>\n",
       "      <th>2</th>\n",
       "      <td>1080</td>\n",
       "      <td>Alaska</td>\n",
       "      <td>POLYGON ((-166.61667 59.98333, -166.61667 59.9...</td>\n",
       "    </tr>\n",
       "    <tr>\n",
       "      <th>3</th>\n",
       "      <td>1080</td>\n",
       "      <td>Alaska</td>\n",
       "      <td>POLYGON ((-166.30000 59.98333, -166.30000 59.9...</td>\n",
       "    </tr>\n",
       "    <tr>\n",
       "      <th>4</th>\n",
       "      <td>1070</td>\n",
       "      <td>Alaska</td>\n",
       "      <td>POLYGON ((-166.26667 59.98333, -166.26667 59.9...</td>\n",
       "    </tr>\n",
       "  </tbody>\n",
       "</table>\n",
       "</div>"
      ],
      "text/plain": [
       "   capacity_mw   state                                           geometry\n",
       "0         1090  Alaska  POLYGON ((-166.96667 59.98333, -166.96667 59.9...\n",
       "1         1100  Alaska  POLYGON ((-166.77500 59.98333, -166.77500 59.9...\n",
       "2         1080  Alaska  POLYGON ((-166.61667 59.98333, -166.61667 59.9...\n",
       "3         1080  Alaska  POLYGON ((-166.30000 59.98333, -166.30000 59.9...\n",
       "4         1070  Alaska  POLYGON ((-166.26667 59.98333, -166.26667 59.9..."
      ]
     },
     "execution_count": 27,
     "metadata": {},
     "output_type": "execute_result"
    }
   ],
   "source": [
    "sample = s.head(5000)\n",
    "sample = sample.rename(columns={\"PVOUT_kWh_kWp\": \"capacity_mw\"})\n",
    "\n",
    "sample.head()"
   ]
  },
  {
   "cell_type": "code",
   "execution_count": null,
   "id": "377cfbeb",
   "metadata": {},
   "outputs": [],
   "source": []
  }
 ],
 "metadata": {
  "kernelspec": {
   "display_name": "Python 3",
   "language": "python",
   "name": "python3"
  },
  "language_info": {
   "codemirror_mode": {
    "name": "ipython",
    "version": 3
   },
   "file_extension": ".py",
   "mimetype": "text/x-python",
   "name": "python",
   "nbconvert_exporter": "python",
   "pygments_lexer": "ipython3",
   "version": "3.7.3"
  }
 },
 "nbformat": 4,
 "nbformat_minor": 5
}
